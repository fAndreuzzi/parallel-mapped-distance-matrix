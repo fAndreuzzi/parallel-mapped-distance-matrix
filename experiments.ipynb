{
 "cells": [
  {
   "cell_type": "code",
   "execution_count": 2,
   "id": "ancient-sheep",
   "metadata": {},
   "outputs": [],
   "source": [
    "import numpy as np"
   ]
  },
  {
   "cell_type": "markdown",
   "id": "sublime-privilege",
   "metadata": {},
   "source": [
    "## Simultaneous max and min"
   ]
  },
  {
   "cell_type": "code",
   "execution_count": 24,
   "id": "musical-hometown",
   "metadata": {},
   "outputs": [],
   "source": [
    "def minmax(x):\n",
    "    y = np.max(x[:, None, :] * np.array([-1, 1])[:, None, None], axis=2)\n",
    "    #y[:, 0] *= -1\n",
    "    return y\n",
    "\n",
    "def minmax2(x):\n",
    "    return np.concatenate([np.min(x, axis=1)[:,None], np.max(x, axis=1)[:,None]], axis=1)"
   ]
  },
  {
   "cell_type": "code",
   "execution_count": 32,
   "id": "organic-stadium",
   "metadata": {},
   "outputs": [
    {
     "name": "stdout",
     "output_type": "stream",
     "text": [
      "633 ms ± 90.7 ms per loop (mean ± std. dev. of 7 runs, 1 loop each)\n",
      "267 ms ± 19.7 ms per loop (mean ± std. dev. of 7 runs, 1 loop each)\n"
     ]
    }
   ],
   "source": [
    "x = np.arange(10000000).reshape(-1,50,2)\n",
    "\n",
    "#assert np.allclose(minmax(x), minmax2(x))\n",
    "\n",
    "%timeit minmax(x)\n",
    "%timeit minmax2(x)"
   ]
  },
  {
   "cell_type": "markdown",
   "id": "worst-sacramento",
   "metadata": {},
   "source": [
    "## `np.nan` is as performant as a shorter matrix?"
   ]
  },
  {
   "cell_type": "code",
   "execution_count": 14,
   "id": "downtown-clearing",
   "metadata": {},
   "outputs": [
    {
     "name": "stdout",
     "output_type": "stream",
     "text": [
      "(500000, 2)\n",
      "9.49 ms ± 1.15 ms per loop (mean ± std. dev. of 7 runs, 100 loops each)\n",
      "(1000000, 2)\n",
      "21 ms ± 3.95 ms per loop (mean ± std. dev. of 7 runs, 10 loops each)\n",
      "(1000000, 2)\n",
      "21 ms ± 2.16 ms per loop (mean ± std. dev. of 7 runs, 10 loops each)\n"
     ]
    }
   ],
   "source": [
    "x = np.arange(1000000).reshape(-1,2)\n",
    "print(x.shape)\n",
    "\n",
    "%timeit x + 2 - np.array([2,20])[None]\n",
    "\n",
    "y = np.vstack([x, np.full((500000, 2), np.nan)])\n",
    "print(y.shape)\n",
    "\n",
    "%timeit y + 2 - np.array([2,20])[None]\n",
    "\n",
    "z = np.vstack([x, x])\n",
    "print(z.shape)\n",
    "\n",
    "%timeit z + 2 - np.array([2,20])[None]"
   ]
  },
  {
   "cell_type": "markdown",
   "id": "affecting-establishment",
   "metadata": {},
   "source": [
    "## Best way to achieve all `False` in NumPy"
   ]
  },
  {
   "cell_type": "code",
   "execution_count": 3,
   "id": "seasonal-tsunami",
   "metadata": {},
   "outputs": [],
   "source": [
    "x = np.full((10000,1000), False)\n",
    "x[2,5] = True\n",
    "x[1000,10] = True"
   ]
  },
  {
   "cell_type": "code",
   "execution_count": 7,
   "id": "ordered-petersburg",
   "metadata": {},
   "outputs": [
    {
     "name": "stdout",
     "output_type": "stream",
     "text": [
      "6 ms ± 1.5 ms per loop (mean ± std. dev. of 7 runs, 100 loops each)\n",
      "1.24 ms ± 78.1 µs per loop (mean ± std. dev. of 7 runs, 1000 loops each)\n",
      "1.14 ms ± 5.85 µs per loop (mean ± std. dev. of 7 runs, 1000 loops each)\n",
      "4.26 ms ± 39.6 µs per loop (mean ± std. dev. of 7 runs, 100 loops each)\n"
     ]
    }
   ],
   "source": [
    "%timeit np.all(np.logical_not(x), axis=1)\n",
    "%timeit np.logical_not(np.any(x, axis=1))\n",
    "%timeit ~np.any(x, axis=1)\n",
    "%timeit (~x).all(axis=1)"
   ]
  }
 ],
 "metadata": {
  "kernelspec": {
   "display_name": "Python 3",
   "language": "python",
   "name": "python3"
  },
  "language_info": {
   "codemirror_mode": {
    "name": "ipython",
    "version": 3
   },
   "file_extension": ".py",
   "mimetype": "text/x-python",
   "name": "python",
   "nbconvert_exporter": "python",
   "pygments_lexer": "ipython3",
   "version": "3.8.6"
  }
 },
 "nbformat": 4,
 "nbformat_minor": 5
}
