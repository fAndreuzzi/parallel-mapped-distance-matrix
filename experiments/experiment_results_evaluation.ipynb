{
 "cells": [
  {
   "cell_type": "code",
   "execution_count": 121,
   "id": "reduced-geology",
   "metadata": {},
   "outputs": [],
   "source": [
    "import numpy as np\n",
    "import os\n",
    "import re\n",
    "import matplotlib.pyplot as plt\n",
    "from copy import deepcopy"
   ]
  },
  {
   "cell_type": "code",
   "execution_count": 140,
   "id": "optimum-mathematics",
   "metadata": {},
   "outputs": [],
   "source": [
    "def samples_shape_for_idx(data_idx):\n",
    "    if data_idx == 0:\n",
    "        from data import samples1, samples2, func\n",
    "    elif data_idx == 1:\n",
    "        from big_data import samples1, samples2, func\n",
    "    elif data_idx == 2:\n",
    "        from biggest_data import samples1, samples2, func\n",
    "    elif data_idx == 3:\n",
    "        from biggest_data2 import samples1, samples2, func\n",
    "    elif data_idx >= 4:\n",
    "        from scattered import samples1, samples2, func\n",
    "    return samples1.shape, samples2.shape\n",
    "\n",
    "lines_pattern = '([^\\s]+) : ([^\\n]*)'\n",
    "script_names_pattern = 'pmb_(\\d+)_(\\d+).py'\n",
    "\n",
    "def handle_line(match):\n",
    "    if len(match.group(2)) > 0:\n",
    "        return match.group(1), float(match.group(2))\n",
    "    else:\n",
    "        return match.group(1), \"\"\n",
    "\n",
    "def parse_file(filename):\n",
    "    result = dict()\n",
    "    \n",
    "    data_idx = int(filename[6:filename.index('_')])\n",
    "    result['shapes'] = samples_shape_for_idx(data_idx)\n",
    "    \n",
    "    result['max_distance'] = float(filename[filename.index('_')+1:filename.index('.')])\n",
    "    \n",
    "    best = (None,100000)\n",
    "    with open(\"results/\" + filename, \"r\") as file:\n",
    "        data = file.read()\n",
    "        \n",
    "        by_bpc = {}\n",
    "        by_bpa = {}\n",
    "        pycsou = {}\n",
    "        for script_name, time  in map(handle_line, re.finditer(lines_pattern, data)):\n",
    "            match = re.search(script_names_pattern, script_name)\n",
    "            if match:\n",
    "                bpa, bpc = int(match.group(1)), int(match.group(2))\n",
    "\n",
    "                if bpa not in by_bpa:\n",
    "                    by_bpa[bpa] = []\n",
    "                by_bpa[bpa].append((bpc, time))\n",
    "\n",
    "                if bpc not in by_bpc:\n",
    "                    by_bpc[bpc] = []\n",
    "                by_bpc[bpc].append((bpa, time))\n",
    "            else:\n",
    "                pycsou[script_name[script_name.index('_')+1:-3]] = time\n",
    "                \n",
    "            if isinstance(time, float) and float(time) < best[1]:\n",
    "                best = (script_name, float(time))\n",
    "                \n",
    "        result['by_bpa'] = by_bpa\n",
    "        result['by_bpc'] = by_bpc\n",
    "        result['pycsou'] = pycsou\n",
    "        result['best'] = best\n",
    "    \n",
    "    return result"
   ]
  },
  {
   "cell_type": "code",
   "execution_count": 167,
   "id": "governing-marriage",
   "metadata": {},
   "outputs": [],
   "source": [
    "def ticks_and_values(dc):\n",
    "    ticks = []\n",
    "    values = []\n",
    "    secondary_keys = []\n",
    "    for key, ls in sorted(dc.items()):\n",
    "        for secondary_key, value in ls:\n",
    "            ticks.append(key)\n",
    "            values.append(value)\n",
    "            secondary_keys.append(secondary_key)\n",
    "    return ticks, values, secondary_keys\n",
    "\n",
    "def plot_as_scatter(dc, logy=False, exclude=(), pycsou=['dask', 'sparse']):\n",
    "    plt.figure(figsize=(10,5))\n",
    "    plt.title('samples1={}, samples2={}, Max distance={}'.format(*dc['shapes'], dc['max_distance']))\n",
    "    \n",
    "    # we make a copy to be sure\n",
    "    dc = deepcopy(dc)\n",
    "    \n",
    "    primary_keys_sorted = sorted(list(dc['by_bpa'].keys()))\n",
    "    for idx in exclude:\n",
    "        print('excluding bpa={}'.format(primary_keys_sorted[idx]))\n",
    "        dc['by_bpa'][primary_keys_sorted[idx]] = []\n",
    "    \n",
    "    ticks, values, secondary_keys = ticks_and_values(dc['by_bpa'])\n",
    "    secondary_keys = list(secondary_keys)\n",
    "    \n",
    "    sc = plt.scatter(ticks, values, c=secondary_keys, s=100)\n",
    "    \n",
    "    plt.grid()\n",
    "    if logy:\n",
    "        plt.yscale('log')\n",
    "    \n",
    "    clb = plt.colorbar(sc, ticks=np.unique(secondary_keys))\n",
    "    clb.ax.tick_params(labelsize=8) \n",
    "    clb.ax.set_title('Bins per chunk', fontsize=8)\n",
    "    \n",
    "    max_tick = max(filter(lambda val: len(dc['by_bpa'][val]) > 0, ticks))\n",
    "    min_tick = min(filter(lambda val: len(dc['by_bpa'][val]) > 0, ticks))\n",
    "    for p, color in zip(pycsou, ['r', 'g']):\n",
    "        plt.hlines(dc['pycsou'][p], min_tick, max_tick, color=color, label='Pycsou-{}'.format(p))\n",
    "    \n",
    "    plt.legend()\n",
    "    plt.ylabel('Seconds')\n",
    "    plt.xlabel('Bins per axis')\n",
    "    \n",
    "    plt.xticks(np.unique(ticks), np.unique(ticks))\n",
    "    \n",
    "    plt.show()"
   ]
  },
  {
   "cell_type": "code",
   "execution_count": 141,
   "id": "single-catalog",
   "metadata": {},
   "outputs": [
    {
     "name": "stdout",
     "output_type": "stream",
     "text": [
      "0 -> output1_0.5.txt\n",
      "1 -> output1_1.txt\n",
      "2 -> output3_0.5.txt\n",
      "3 -> output3_1.txt\n"
     ]
    }
   ],
   "source": [
    "outputs = sorted(os.listdir('results/'))\n",
    "results = list(map(parse_file, outputs))\n",
    "\n",
    "for idx, filename in enumerate(outputs):\n",
    "    print('{} -> {}'.format(idx, filename))"
   ]
  },
  {
   "cell_type": "code",
   "execution_count": 172,
   "id": "answering-status",
   "metadata": {},
   "outputs": [
    {
     "name": "stdout",
     "output_type": "stream",
     "text": [
      "excluding bpa=50\n"
     ]
    },
    {
     "data": {
      "image/png": "[encoded data removed]",
      "text/plain": [
       "<Figure size 720x360 with 2 Axes>"
      ]
     },
     "metadata": {
      "needs_background": "light"
     },
     "output_type": "display_data"
    }
   ],
   "source": [
    "plot_as_scatter(results[3], exclude=(-1,), pycsou=['dask'])"
   ]
  }
 ],
 "metadata": {
  "kernelspec": {
   "display_name": "Python 3",
   "language": "python",
   "name": "python3"
  },
  "language_info": {
   "codemirror_mode": {
    "name": "ipython",
    "version": 3
   },
   "file_extension": ".py",
   "mimetype": "text/x-python",
   "name": "python",
   "nbconvert_exporter": "python",
   "pygments_lexer": "ipython3",
   "version": "3.8.6"
  }
 },
 "nbformat": 4,
 "nbformat_minor": 5
}
